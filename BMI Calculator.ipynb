{
 "cells": [
  {
   "cell_type": "markdown",
   "id": "aba9df86-84f4-4845-bdba-702ed7d811a2",
   "metadata": {},
   "source": [
    "# BMI Calculator\n",
    "\n",
    "## Overview\n",
    "\n",
    "This project demonstrates the implementation of a Body Mass Index (BMI) calculator using Python in a Jupyter Notebook. The BMI is a simple calculation used to assess whether a person has a healthy body weight for a given height. This calculator allows users to input their weight and height and receive their BMI value along with a classification based on the result.\n",
    "\n",
    "## How It Works\n",
    "\n",
    "The calculator follows these steps:\n",
    "\n",
    "1. **Input Collection**: The program prompts the user to enter their weight in kilograms and height in meters.\n",
    "2. **BMI Calculation**: The program calculates the BMI based on the user inputs.\n",
    "3. **Classification**: Based on the calculated BMI, the program classifies the result into categories such as underweight, normal weight, overweight, and obesity.\n",
    "\n",
    "## Code Implementation\n",
    "\n",
    "Below is the code for the BMI calculator:"
   ]
  },
  {
   "cell_type": "code",
   "execution_count": null,
   "id": "587cedcb-24ca-4653-b2a2-c838ebf8ec20",
   "metadata": {},
   "outputs": [],
   "source": [
    "name = input(\"Enter your name ->\" )\n",
    "\n",
    "weight = float(input(\"Enter your weight in kg ->\" ))\n",
    "\n",
    "height = float(input(\"Enter your height in m ->\" ))\n",
    "\n",
    "BMI = (weight) / (height * height)\n",
    "\n",
    "print(\"BMI:\", BMI)\n",
    "\n",
    "if (BMI > 0):\n",
    "    if(BMI < 18.5):\n",
    "        print(name +\", you are underweight. EAT MORE\")\n",
    "    elif(BMI <= 24.9):\n",
    "        print(name +\", you are normal weight.\")\n",
    "    elif(BMI <= 29.9):\n",
    "        print(name +\", you are overweight, you should exrcise more.\")\n",
    "    elif(BMI > 30):\n",
    "        print(name +\", you are obese, focus on your diet and do exercise.\")\n",
    "    else:\n",
    "        print(\"Enter valid input\")"
   ]
  },
  {
   "cell_type": "code",
   "execution_count": null,
   "id": "5c87eea9-8e2a-412f-9b12-19b93670ab91",
   "metadata": {},
   "outputs": [],
   "source": []
  },
  {
   "cell_type": "code",
   "execution_count": null,
   "id": "b45a5e5c-f5a5-45e0-9fdd-e54c1a6cb207",
   "metadata": {},
   "outputs": [],
   "source": []
  }
 ],
 "metadata": {
  "kernelspec": {
   "display_name": "Python 3 (ipykernel)",
   "language": "python",
   "name": "python3"
  },
  "language_info": {
   "codemirror_mode": {
    "name": "ipython",
    "version": 3
   },
   "file_extension": ".py",
   "mimetype": "text/x-python",
   "name": "python",
   "nbconvert_exporter": "python",
   "pygments_lexer": "ipython3",
   "version": "3.12.4"
  }
 },
 "nbformat": 4,
 "nbformat_minor": 5
}
