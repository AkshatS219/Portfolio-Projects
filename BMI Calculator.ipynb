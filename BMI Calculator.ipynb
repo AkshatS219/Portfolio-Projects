{
 "cells": [
  {
   "cell_type": "code",
   "execution_count": 3,
   "id": "0e7b8246-067a-4389-af99-efd334fbf0fa",
   "metadata": {},
   "outputs": [
    {
     "name": "stdin",
     "output_type": "stream",
     "text": [
      "Enter your name -> Ak\n",
      "Enter your weight in kg -> 90\n",
      "Enter your height in m -> 1.65\n"
     ]
    },
    {
     "name": "stdout",
     "output_type": "stream",
     "text": [
      "BMI: 33.057851239669425\n",
      "Ak, you are obese, focus on your diet and do exercise.\n"
     ]
    }
   ],
   "source": [
    "name = input(\"Enter your name ->\" )\n",
    "\n",
    "weight = float(input(\"Enter your weight in kg ->\" ))\n",
    "\n",
    "height = float(input(\"Enter your height in m ->\" ))\n",
    "\n",
    "BMI = (weight) / (height * height)\n",
    "\n",
    "print(\"BMI:\", BMI)\n",
    "\n",
    "if (BMI > 0):\n",
    "    if(BMI < 18.5):\n",
    "        print(name +\", you are underweight. EAT MORE\")\n",
    "    elif(BMI <= 24.9):\n",
    "        print(name +\", you are normal weight.\")\n",
    "    elif(BMI <= 29.9):\n",
    "        print(name +\", you are overweight, you should exrcise more.\")\n",
    "    elif(BMI > 30):\n",
    "        print(name +\", you are obese, focus on your diet and do exercise.\")\n",
    "    else:\n",
    "        print(\"Enter valid input\")"
   ]
  },
  {
   "cell_type": "code",
   "execution_count": null,
   "id": "7eb06863-9cc0-431e-994f-c5ad19580e75",
   "metadata": {},
   "outputs": [],
   "source": []
  },
  {
   "cell_type": "code",
   "execution_count": null,
   "id": "8feffdb6-1eef-4afc-8691-df3ff1c5ffa5",
   "metadata": {},
   "outputs": [],
   "source": []
  },
  {
   "cell_type": "code",
   "execution_count": null,
   "id": "3f48f223-4b4e-4e9b-8c5a-763eba59b1f5",
   "metadata": {},
   "outputs": [],
   "source": []
  },
  {
   "cell_type": "code",
   "execution_count": null,
   "id": "587cedcb-24ca-4653-b2a2-c838ebf8ec20",
   "metadata": {},
   "outputs": [],
   "source": []
  },
  {
   "cell_type": "code",
   "execution_count": null,
   "id": "28957cb1-ea92-439f-b812-5147e300e388",
   "metadata": {},
   "outputs": [],
   "source": []
  },
  {
   "cell_type": "code",
   "execution_count": null,
   "id": "690b1382-6a76-468b-828c-1f096b62e49f",
   "metadata": {},
   "outputs": [],
   "source": []
  },
  {
   "cell_type": "code",
   "execution_count": null,
   "id": "891849f2-c7a7-42b5-b929-c101aec4d6a4",
   "metadata": {},
   "outputs": [],
   "source": []
  },
  {
   "cell_type": "code",
   "execution_count": null,
   "id": "e134b44a-5e91-4360-a9e9-ca1be5967b08",
   "metadata": {},
   "outputs": [],
   "source": []
  },
  {
   "cell_type": "code",
   "execution_count": null,
   "id": "e72bb25b-c590-4187-92d2-ebd574052718",
   "metadata": {},
   "outputs": [],
   "source": []
  },
  {
   "cell_type": "code",
   "execution_count": null,
   "id": "6b12c8d7-faec-4642-8de9-f09eb575b677",
   "metadata": {},
   "outputs": [],
   "source": []
  },
  {
   "cell_type": "code",
   "execution_count": null,
   "id": "fa1c4f67-aad6-4d53-8e80-afd04d784741",
   "metadata": {},
   "outputs": [],
   "source": []
  },
  {
   "cell_type": "code",
   "execution_count": null,
   "id": "11ceca92-c4c2-461f-9871-63426839edd3",
   "metadata": {},
   "outputs": [],
   "source": []
  },
  {
   "cell_type": "code",
   "execution_count": null,
   "id": "64f9fb30-6039-42b9-8d2a-1d1e44b1d9b1",
   "metadata": {},
   "outputs": [],
   "source": []
  },
  {
   "cell_type": "code",
   "execution_count": null,
   "id": "a067fbce-3282-4d3a-942c-d93c3c440af1",
   "metadata": {},
   "outputs": [],
   "source": []
  },
  {
   "cell_type": "code",
   "execution_count": null,
   "id": "d2072c42-c4bc-4bbc-aa73-b8ca6472ecef",
   "metadata": {},
   "outputs": [],
   "source": []
  },
  {
   "cell_type": "code",
   "execution_count": null,
   "id": "ed4bdb91-9449-4a27-9442-9a75e7c2b4e2",
   "metadata": {},
   "outputs": [],
   "source": []
  },
  {
   "cell_type": "code",
   "execution_count": null,
   "id": "d54baa35-93ce-4815-88c7-c7fddb7c32c9",
   "metadata": {},
   "outputs": [],
   "source": []
  },
  {
   "cell_type": "code",
   "execution_count": null,
   "id": "b0846ed8-27ed-4acd-97a8-0a815deb5f68",
   "metadata": {},
   "outputs": [],
   "source": []
  },
  {
   "cell_type": "code",
   "execution_count": null,
   "id": "3acb33a6-1ef5-473f-93bb-3f3535eafa72",
   "metadata": {},
   "outputs": [],
   "source": []
  },
  {
   "cell_type": "code",
   "execution_count": null,
   "id": "308ffc75-9674-47fb-834c-a00800507ba7",
   "metadata": {},
   "outputs": [],
   "source": []
  },
  {
   "cell_type": "code",
   "execution_count": null,
   "id": "48b35daa-f0c4-4413-a904-9ff1f5ae1c43",
   "metadata": {},
   "outputs": [],
   "source": []
  },
  {
   "cell_type": "code",
   "execution_count": null,
   "id": "f2f0f789-ec5e-4cb5-99b4-59ee995f5663",
   "metadata": {},
   "outputs": [],
   "source": []
  },
  {
   "cell_type": "code",
   "execution_count": null,
   "id": "33abb711-872c-4c05-a7aa-2baf6ee98c83",
   "metadata": {},
   "outputs": [],
   "source": []
  },
  {
   "cell_type": "code",
   "execution_count": null,
   "id": "8608a90f-ed88-47ec-bf74-fcc95d7026f8",
   "metadata": {},
   "outputs": [],
   "source": []
  },
  {
   "cell_type": "code",
   "execution_count": null,
   "id": "ab803479-0fc3-4763-a650-7089ffd81950",
   "metadata": {},
   "outputs": [],
   "source": []
  }
 ],
 "metadata": {
  "kernelspec": {
   "display_name": "Python 3 (ipykernel)",
   "language": "python",
   "name": "python3"
  },
  "language_info": {
   "codemirror_mode": {
    "name": "ipython",
    "version": 3
   },
   "file_extension": ".py",
   "mimetype": "text/x-python",
   "name": "python",
   "nbconvert_exporter": "python",
   "pygments_lexer": "ipython3",
   "version": "3.12.4"
  }
 },
 "nbformat": 4,
 "nbformat_minor": 5
}
